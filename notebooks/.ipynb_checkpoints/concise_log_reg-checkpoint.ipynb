{
 "cells": [
  {
   "cell_type": "markdown",
   "metadata": {},
   "source": [
    "## Concise Logistic Regression for Image Classification\n",
    "\n",
    "- Shows a concise implementation of logistic regression for image classification\n",
    "- Uses PyTorch"
   ]
  },
  {
   "cell_type": "code",
   "execution_count": 1,
   "metadata": {},
   "outputs": [],
   "source": [
    "# imports\n",
    "#导入了 PyTorch、torchvision 的相关模块和第三方库 numpy、matplotlib\n",
    "import torch#PyTorch 核心库\n",
    "import torchvision#主要提供了用于图像的不同数据集、预处理方法等工具，可以方便地进行模型的训练和测试\n",
    "import torch.nn as nn#PyTorch 神经网络模块，包括各种不同的网络层的实现\n",
    "from torchvision import datasets, models, transforms\n",
    "import os#用于操作系统相关的常用方法\n",
    "import numpy as np#Python 的数学处理库\n",
    "import matplotlib.pyplot as plt\n",
    "\n",
    "%matplotlib inline#使用 %matplotlib inline 魔法命令实现 Jupyter Notebook 的内置显示\n",
    "\n",
    "# use gpu if available\n",
    "device = torch.device(\"cuda:0\" if torch.cuda.is_available() else \"cpu\")#如果有 GPU 则使用 GPU，否则使用 CPU"
   ]
  },
  {
   "cell_type": "code",
   "execution_count": null,
   "metadata": {},
   "outputs": [],
   "source": [
    "# download the data (uncomment if to download the data locally)\n",
    "#!wget https://download.pytorch.org/tutorial/hymenoptera_data.zip\n",
    "#!unzip hymenoptera_data.zip"
   ]
  },
  {
   "cell_type": "code",
   "execution_count": 2,
   "metadata": {},
   "outputs": [],
   "source": [
    "# create data loaders\n",
    "\n",
    "data_dir = 'hymenoptera_data'# 设置数据文件夹路径\n",
    "\n",
    "# custom transformer to flatten the image tensors\n",
    "# 自定义变换函数，将图像矩阵展平\n",
    "class ReshapeTransform:\n",
    "    #初始化函数，在调用 ReshapeTransform 对象时使用。它接受 new_size 参数，表示展平后的矩阵的新形状\n",
    "    def __init__(self, new_size):\n",
    "        self.new_size = new_size\n",
    "    #函数调用方法，当应用变换时会调用该方法。它将输入的图像矩阵 img 重塑为新形状 new_size，并返回更改的矩阵\n",
    "    def __call__(self, img):\n",
    "        result = torch.reshape(img, self.new_size)#将一个张量重塑为一个新的形状\n",
    "        return result\n",
    "\n",
    "# transformations used to standardize and normalize the datasets\n",
    "# 数据处理，将图像进行大小调整，中心裁剪和展平处理\n",
    "data_transforms = {\n",
    "    'train': transforms.Compose([\n",
    "        transforms.Resize(224),\n",
    "        transforms.CenterCrop(224),\n",
    "        transforms.ToTensor(),\n",
    "        ReshapeTransform((-1,)) # flattens the data# 将图像矩阵展平\n",
    "    ]),\n",
    "    'val': transforms.Compose([\n",
    "        transforms.Resize(224),\n",
    "        transforms.CenterCrop(224),\n",
    "        transforms.ToTensor(),\n",
    "        ReshapeTransform((-1,)) # flattens the data# 将图像矩阵展平\n",
    "\n",
    "    ]),\n",
    "}\n",
    "\n",
    "# load the correspoding folders\n",
    "image_datasets = {x: datasets.ImageFolder(os.path.join(data_dir, x),\n",
    "                                          data_transforms[x])\n",
    "                  for x in ['train', 'val']}# 读取数据集\n",
    "\n",
    "# load the entire dataset; we are not using minibatches here\n",
    "train_dataset = torch.utils.data.DataLoader(image_datasets['train'],\n",
    "                                            batch_size=len(image_datasets['train']),\n",
    "                                            shuffle=True)# 数据集处理，将其载入到张量中，并且不进行采样\n",
    "\n",
    "test_dataset = torch.utils.data.DataLoader(image_datasets['val'],\n",
    "                                           batch_size=len(image_datasets['val']),\n",
    "                                           shuffle=True)"
   ]
  },
  {
   "cell_type": "code",
   "execution_count": 3,
   "metadata": {},
   "outputs": [],
   "source": [
    "# build the LR model\n",
    "class LR(nn.Module):\n",
    "    def __init__(self, dim):#初始化函数，构建一个包含一个线性层的模型\n",
    "        super(LR, self).__init__()\n",
    "        self.linear = nn.Linear(dim, 1)#使用 nn.Linear 创建一个线性层\n",
    "        #初始化权重和偏置，将它们都设置为零\n",
    "        nn.init.zeros_(self.linear.weight)\n",
    "        nn.init.zeros_(self.linear.bias)\n",
    "\n",
    "    def forward(self, x):#前向传递函数，在训练时会被自动调用\n",
    "       #将输入向量 x 传递给线性层，然后使用 Sigmoid 激活函数返回结果\n",
    "        x = self.linear(x)\n",
    "        x = torch.sigmoid(x)\n",
    "        return x "
   ]
  },
  {
   "cell_type": "code",
   "execution_count": 4,
   "metadata": {},
   "outputs": [],
   "source": [
    "# predict function\n",
    "def predict(yhat, y):#定义预测函数predict，用于预测模型的准确率\n",
    "    yhat = yhat.squeeze()# 将yhat的维度降为1\n",
    "    y = y.unsqueeze(0) # 将y的维度升为1\n",
    "    y_prediction = torch.zeros(y.size()[1])# 初始化y_prediction\n",
    "    for i in range(yhat.shape[0]): # 遍历所有预测结果\n",
    "        if yhat[i] <= 0.5:# 如果预测结果小于等于0.5\n",
    "            y_prediction[i] = 0# 则将该结果设置为0\n",
    "        else:# 否则\n",
    "            y_prediction[i] = 1 # 将该结果设置为1\n",
    "    return 100 - torch.mean(torch.abs(y_prediction - y)) * 100# 计算预测准确率，返回百分比"
   ]
  },
  {
   "cell_type": "code",
   "execution_count": 5,
   "metadata": {},
   "outputs": [],
   "source": [
    "# model config\n",
    "dim = train_dataset.dataset[0][0].shape[0]#获取训练集中第一个数据点的特征维度\n",
    "\n",
    "lrmodel = LR(dim).to(device)#初始化逻辑回归模型\n",
    "criterion = nn.BCELoss()#定义损失函数\n",
    "optimizer = torch.optim.SGD(lrmodel.parameters(), lr=0.0001)#定义优化器，使用SGD算法，初始学习率为0.0001"
   ]
  },
  {
   "cell_type": "code",
   "execution_count": 8,
   "metadata": {},
   "outputs": [
    {
     "name": "stdout",
     "output_type": "stream",
     "text": [
      "Cost after iteration 0: 0.6931471228599548 | Train Acc: 50.40983581542969 | Test Acc: 45.75163269042969\n",
      "Cost after iteration 10: 0.6691471338272095 | Train Acc: 64.3442611694336 | Test Acc: 54.24836730957031\n",
      "Cost after iteration 20: 0.6513182520866394 | Train Acc: 68.44261932373047 | Test Acc: 54.24836730957031\n",
      "Cost after iteration 30: 0.6367825269699097 | Train Acc: 68.03278350830078 | Test Acc: 54.24836730957031\n",
      "Cost after iteration 40: 0.6245337128639221 | Train Acc: 69.67213439941406 | Test Acc: 54.90196228027344\n",
      "Cost after iteration 50: 0.6139225363731384 | Train Acc: 70.90164184570312 | Test Acc: 56.20914840698242\n",
      "Cost after iteration 60: 0.6045235395431519 | Train Acc: 72.54098510742188 | Test Acc: 56.86274337768555\n",
      "Cost after iteration 70: 0.5960512161254883 | Train Acc: 74.18032836914062 | Test Acc: 57.51633834838867\n",
      "Cost after iteration 80: 0.5883084535598755 | Train Acc: 73.77049255371094 | Test Acc: 57.51633834838867\n",
      "Cost after iteration 90: 0.5811557769775391 | Train Acc: 74.59016418457031 | Test Acc: 58.1699333190918\n"
     ]
    }
   ],
   "source": [
    "# training the model\n",
    "#初始化空列表用于保存损失函数值\n",
    "costs = []\n",
    "#进行100轮迭代\n",
    "for ITER in range(100):\n",
    "    ## 将模型设为训练模式\n",
    "    lrmodel.train()\n",
    "    \n",
    "    x, y = next(iter(train_dataset))# 获取一个训练数据批次\n",
    "    test_x, test_y = next(iter(test_dataset))# 获取一个测试数据批次\n",
    "\n",
    "    # forward\n",
    "    yhat = lrmodel.forward(x.to(device))# 前向传播\n",
    "\n",
    "    cost = criterion(yhat.squeeze(), y.type(torch.FloatTensor).to(device))# 计算损失函数\n",
    "    train_pred = predict(yhat, y)# 预测训练准确率\n",
    "\n",
    "    # backward\n",
    "    # 反向传播\n",
    "    optimizer.zero_grad()#清空上一步的梯度\n",
    "    cost.backward()#反向传播求解梯度\n",
    "    optimizer.step()#根据梯度，更新模型参数\n",
    "    \n",
    "    # evaluate\n",
    "    lrmodel.eval()# 将模型设为评估模式\n",
    "    #将模型设为评估模式，关闭梯度计算\n",
    "    with torch.no_grad():\n",
    "        yhat_test = lrmodel.forward(test_x.to(device))# 前向传播，预测测试数据\n",
    "        test_pred = predict(yhat_test, test_y)# # 计算测试准确率\n",
    "\n",
    "    if ITER % 10 == 0:#每10轮将这一轮的损失函数值保存到costs列表中\n",
    "        costs.append(cost)\n",
    "\n",
    "    if ITER % 10 == 0:# 每10轮输出一次参数\n",
    "        print(\"Cost after iteration {}: {} | Train Acc: {} | Test Acc: {}\".format(ITER, \n",
    "                                                                                    cost, \n",
    "                                                                                    train_pred,\n",
    "                                                                                    test_pred))\n",
    "   "
   ]
  },
  {
   "cell_type": "markdown",
   "metadata": {},
   "source": [
    "### References\n",
    "- [A Logistic Regression Model from Scratch](https://colab.research.google.com/drive/1iBoJ0kngkOthy7SgVaVQA1aHEROt5mra?usp=sharing)"
   ]
  }
 ],
 "metadata": {
  "kernelspec": {
   "display_name": "Python 3 (ipykernel)",
   "language": "python",
   "name": "python3"
  },
  "language_info": {
   "codemirror_mode": {
    "name": "ipython",
    "version": 3
   },
   "file_extension": ".py",
   "mimetype": "text/x-python",
   "name": "python",
   "nbconvert_exporter": "python",
   "pygments_lexer": "ipython3",
   "version": "3.9.2"
  },
  "vscode": {
   "interpreter": {
    "hash": "cf9800998463bc980d70cdbacff0c7e9a10687346dc898569e92f016d6e252c9"
   }
  }
 },
 "nbformat": 4,
 "nbformat_minor": 2
}
