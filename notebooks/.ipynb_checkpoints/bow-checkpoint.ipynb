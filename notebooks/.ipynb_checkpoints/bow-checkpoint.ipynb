{
 "cells": [
  {
   "cell_type": "markdown",
   "metadata": {},
   "source": [
    "# Bag of Words Text Classifier\n",
    "\n",
    "The code below implements a simple bag of words text classifier.\n",
    "- We tokenize the text, create a vocabulary and encode each piece of text in the dataset\n",
    "- The lookup allows for extracting embeddings for each tokenized inputs\n",
    "- The embedding vectors are added together with a bias vector\n",
    "- The resulting vector is referred to as the scores\n",
    "- The score are applied a softmax to generate probabilities which are used for the classification task\n",
    "\n",
    "The code used in this notebook was inspired by code from the [official repo](https://github.com/neubig/nn4nlp-code) used in the [CMU Neural Networks for NLP class](http://www.phontron.com/class/nn4nlp2021/schedule.html) by [Graham Neubig](http://www.phontron.com/index.php). \n",
    "\n",
    "![img txt](../img/bow.png?raw=true)"
   ]
  },
  {
   "cell_type": "code",
   "execution_count": 4,
   "metadata": {},
   "outputs": [],
   "source": [
    "import torch #导入PyTorch库\n",
    "import random#导入Python标准库中的random模块\n",
    "import torch.nn as nn#导入PyTorch中的nn模块，用于搭建和训练神经网络"
   ]
  },
  {
   "cell_type": "markdown",
   "metadata": {},
   "source": [
    "### Download the Data"
   ]
  },
  {
   "cell_type": "code",
   "execution_count": 2,
   "metadata": {},
   "outputs": [],
   "source": [
    "%%capture#隐藏输出\n",
    "\n",
    "# download the files\n",
    "#使用!wget命令从GitHub下载了三个名为train.txt、test.txt和dev.txt的文本文件\n",
    "!wget https://raw.githubusercontent.com/neubig/nn4nlp-code/master/data/classes/dev.txt\n",
    "!wget https://raw.githubusercontent.com/neubig/nn4nlp-code/master/data/classes/test.txt\n",
    "!wget https://raw.githubusercontent.com/neubig/nn4nlp-code/master/data/classes/train.txt\n",
    "\n",
    "# create the data folders\n",
    "!mkdir data data/classes#使用!mkdir创建一个名为data的新文件夹和一个名为data/classes的新文件夹\n",
    "#代码使用!cp命令把三个下载的文本文件复制到data/classes文件夹中\n",
    "!cp dev.txt data/classes\n",
    "!cp test.txt data/classes\n",
    "!cp train.txt data/classes"
   ]
  },
  {
   "cell_type": "markdown",
   "metadata": {},
   "source": [
    "### Read the Data"
   ]
  },
  {
   "cell_type": "code",
   "execution_count": 5,
   "metadata": {},
   "outputs": [],
   "source": [
    "# function to read in data, process each line and split columns by \" ||| \"\n",
    "def read_data(filename):#定义读取数据的函数read_data，该函数接收一个文件名作为输入参数\n",
    "    data = []#定义一个空列表data，用于存放读取的数据\n",
    "    with open(filename, 'r') as f:#打开文件，使用with语句自动关闭文件\n",
    "        for line in f: #对文件中的每一行进行循环\n",
    "            line = line.lower().strip()#将每一行字符串转换为小写字母，并去除两端的空格\n",
    "            line = line.split(' ||| ')#以’ ||| '为分隔符将每一行拆分成多个字符串，并组合成一个列表\n",
    "            data.append(line) #将这个列表添加到数据列表data中\n",
    "    return data#返回数据列表data\n",
    "\n",
    "train_data = read_data('data/classes/train.txt')#读取train.txt文件中的数据，将结果赋值给train_data变量\n",
    "test_data = read_data('data/classes/test.txt')#读取test.txt文件中的数据，将结果赋值给test_data变量"
   ]
  },
  {
   "cell_type": "markdown",
   "metadata": {},
   "source": [
    "### Construct the Vocab and Datasets"
   ]
  },
  {
   "cell_type": "code",
   "execution_count": 6,
   "metadata": {},
   "outputs": [],
   "source": [
    "# creating the word and tag indices\n",
    "word_to_index = {}#创建一个空字典word_to_index，用于存放词汇表\n",
    "word_to_index[\"<unk>\"] = len(word_to_index) # adds <UNK> to dictionary#将\"<unk>\"作为第一个词汇表项，其索引为0\n",
    "tag_to_index = {}#创建一个空字典tag_to_index，用于存放标记表\n",
    "\n",
    "# create word to index dictionary and tag to index dictionary from data\n",
    "#创建词汇表字典和标记表字典，根据数据列表中的句子生成词汇表和标记表\n",
    "def create_dict(data, check_unk=False):\n",
    "    for line in data:#对数据列表data中的每一个元素进行循环\n",
    "        for word in line[1].split(\" \"):#对句子中的每一个单词进行循环\n",
    "            if check_unk == False:#表示未查找到未知词汇，将新单词加入词汇表\n",
    "                if word not in word_to_index:\n",
    "                    word_to_index[word] = len(word_to_index)\n",
    "            else:#如果check_unk=True，表示查找到未知词汇，将新单词替换为”<unk>“，并加入词汇表\n",
    "                if word not in word_to_index:#将数据列表data中的标注加入标记表tag_to_index中\n",
    "                    word_to_index[word] = word_to_index[\"<unk>\"]\n",
    "\n",
    "        if line[0] not in tag_to_index:\n",
    "            tag_to_index[line[0]] = len(tag_to_index)\n",
    "\n",
    "create_dict(train_data)#使用train_data创建词汇表和标记表\n",
    "create_dict(test_data, check_unk=True)#使用test_data创建词汇表和标记表，并进行未知词汇检查\n",
    "#生成词汇表张量和标记张量\n",
    "# create word and tag tensors from data\n",
    "def create_tensor(data):\n",
    "    for line in data:#对数据列表data中的每一个元素进行循环\n",
    "        yield([word_to_index[word] for word in line[1].split(\" \")], tag_to_index[line[0]])#依据词汇表创建词\n",
    "        \n",
    "train_data = list(create_tensor(train_data))#使用create_tensor函数生成训练集的词汇表张量和标记张量，并将结果转换为列表\n",
    "test_data = list(create_tensor(test_data))#使用create_tensor函数生成测试集的词汇表张量和标记张量，并将结果转换为列表\n",
    "\n",
    "number_of_words = len(word_to_index)#计算词汇表中元素的个数，即词汇的个数\n",
    "number_of_tags = len(tag_to_index)#计算标记表中元素的个数，即标记的个数"
   ]
  },
  {
   "cell_type": "markdown",
   "metadata": {},
   "source": [
    "### Model"
   ]
  },
  {
   "cell_type": "code",
   "execution_count": 7,
   "metadata": {},
   "outputs": [],
   "source": [
    "# cpu or gpu\n",
    "device = \"cuda\" if torch.cuda.is_available() else \"cpu\" #设置训练设备为显卡“cuda”（GPU）或者CPU\n",
    "\n",
    "# create a simple neural network with embedding layer, bias, and xavier initialization\n",
    "class BoW(torch.nn.Module):#定义一个继承自nn.Module的神经网络类BoW\n",
    "    def __init__(self, nwords, ntags):#定义初始化方法，接收输入单词数量和输出标记数量\n",
    "        super(BoW, self).__init__()#调用神经网络的父类的初始化方法\n",
    "        self.embedding = nn.Embedding(nwords, ntags)#定义嵌入层，输入单词数为nwords，嵌入向量长度为ntags\n",
    "        nn.init.xavier_uniform_(self.embedding.weight)#使用xavier初始化对权重进行初始化\n",
    "\n",
    "        type = torch.cuda.FloatTensor if torch.cuda.is_available() else torch.FloatTensor#定义偏置变量，设置数据类型为float或者cuda的float类型\n",
    "        self.bias = torch.zeros(ntags, requires_grad=True).type(type)#初始化偏置变量，大小为ntags，设定为需要求导\n",
    "\n",
    "def forward(self, x):  #定义前向传播函数\n",
    "\n",
    "    def forward(self, x):#获取x对应的嵌入向量\n",
    "        emb = self.embedding(x) # seq_len x ntags (for each seq) \n",
    "        out = torch.sum(emb, dim=0) + self.bias # ntags #计算每个词汇的嵌入向量和，加上偏置\n",
    "        out = out.view(1, -1) # reshape to (1, ntags) #将输出张量reshape为大小为(1, ntags)的二维张量\n",
    "        return out #返回输出张量"
   ]
  },
  {
   "cell_type": "markdown",
   "metadata": {},
   "source": [
    "### Pretest the Model"
   ]
  },
  {
   "cell_type": "code",
   "execution_count": 8,
   "metadata": {},
   "outputs": [
    {
     "data": {
      "text/plain": [
       "tensor([[ 0.0124,  0.0164, -0.0182, -0.0014, -0.0120]], device='cuda:0',\n",
       "       grad_fn=<ViewBackward0>)"
      ]
     },
     "execution_count": 8,
     "metadata": {},
     "output_type": "execute_result"
    }
   ],
   "source": [
    "# function to convert sentence into tensor using word_to_index dictionary\n",
    "def sentence_to_tensor(sentence):\n",
    "    return torch.LongTensor([word_to_index[word] for word in sentence.split(\" \")])\n",
    "#将句子转换为相应的整数序列，并创建一个PyTorch Tensor\n",
    "# test the sentence_to_tensor function\n",
    "type = torch.cuda.LongTensor if torch.cuda.is_available() else torch.LongTensor#定义变量type，表示输入张量的数据类型\n",
    "out = sentence_to_tensor(\"i love dogs\").type(type)#将输入的句子转换为张量，并设置数据类型为type\n",
    "test_model = BoW(number_of_words, number_of_tags).to(device)#定义测试模型，并将其放在设备device上\n",
    "test_model(out)#使用test_model对输入张量进行测试，输出模型的预测结果"
   ]
  },
  {
   "cell_type": "markdown",
   "metadata": {},
   "source": [
    "### Train the Model"
   ]
  },
  {
   "cell_type": "code",
   "execution_count": 9,
   "metadata": {},
   "outputs": [
    {
     "name": "stdout",
     "output_type": "stream",
     "text": [
      "ITER: 1 | train loss/sent: 1.4733 | train accuracy: 0.3631 | test accuracy: 0.4009\n",
      "ITER: 2 | train loss/sent: 1.1216 | train accuracy: 0.6040 | test accuracy: 0.4118\n",
      "ITER: 3 | train loss/sent: 0.9123 | train accuracy: 0.7117 | test accuracy: 0.4154\n",
      "ITER: 4 | train loss/sent: 0.7688 | train accuracy: 0.7664 | test accuracy: 0.4140\n",
      "ITER: 5 | train loss/sent: 0.6631 | train accuracy: 0.8065 | test accuracy: 0.4068\n",
      "ITER: 6 | train loss/sent: 0.5814 | train accuracy: 0.8324 | test accuracy: 0.4059\n",
      "ITER: 7 | train loss/sent: 0.5171 | train accuracy: 0.8507 | test accuracy: 0.4077\n",
      "ITER: 8 | train loss/sent: 0.4640 | train accuracy: 0.8695 | test accuracy: 0.4036\n",
      "ITER: 9 | train loss/sent: 0.4191 | train accuracy: 0.8830 | test accuracy: 0.3991\n",
      "ITER: 10 | train loss/sent: 0.3818 | train accuracy: 0.8929 | test accuracy: 0.3964\n"
     ]
    }
   ],
   "source": [
    "# train and test the BoW model\n",
    "model = BoW(number_of_words, number_of_tags).to(device)#使用 BoW 类创建一个名为 model 的模型实例\n",
    "criterion = nn.CrossEntropyLoss()#使用 PyTorch 内置的交叉熵损失函数作为 criterion，\n",
    "optimizer = torch.optim.Adam(model.parameters())#使用 Adam 优化器来优化模型参数\n",
    "type = torch.LongTensor\n",
    "\n",
    "if torch.cuda.is_available():\n",
    "    model.to(device)#程序检查是否有可用的 GPU，如果有，则将模型放在 device 上运行\n",
    "    type = torch.cuda.LongTensor#将变量 type 的数据类型设置为 LongTensor\n",
    "\n",
    "# perform training of the Bow model\n",
    "def train_bow(model, optimizer, criterion, train_data):\n",
    "    for ITER in range(10):#该循环遍历多次训练数据，对模型进行训练和评估\n",
    "        # perform training\n",
    "        model.train()#将模型设置为训练模式\n",
    "        random.shuffle(train_data)#对输入数据进行随机混洗操作，以确保我们不会重复用于训练的相同数据\n",
    "        total_loss = 0.0\n",
    "        train_correct = 0\n",
    "        for sentence, tag in train_data:#对于训练数据集中的每个句子和对应的标签，进行循环迭代\n",
    "            sentence = torch.tensor(sentence).type(type)#将句子转换为 PyTorch 张量类型，并根据设置的数据类型 type 进行数据类型转换\n",
    "            tag = torch.tensor([tag]).type(type)#将标签转换为 PyTorch 张量类型，并根据设置的数据类型 type 进行数据类型转换。标签通常是一个整数，这里加上方括号是为了将其转换为一维张量\n",
    "            output = model(sentence)#输入句子到模型中进行前向计算，得到模型的预测结果\n",
    "            predicted = torch.argmax(output.data.detach()).item()#对模型的预测结果进行 argmax 操作，得到预测标签\n",
    "            \n",
    "            loss = criterion(output, tag)#通过计算模型的预测结果和真实标签之间的差异来计算损失值\n",
    "            total_loss += loss.item()#累加每个数据点的损失值，用于计算平均损失值\n",
    "\n",
    "            optimizer.zero_grad()#清零模型参数的梯度，使得在每个训练迭代时，梯度不会累积\n",
    "            loss.backward()#根据损失值计算每个参数的梯度，并将梯度保存在相应参数张量的 .grad 属性中\n",
    "            optimizer.step()#根据参数的梯度和学习率更新参数的数值，使得模型的损失值逐步降低\n",
    "\n",
    "            if predicted == tag: train_correct+=1#如果模型的预测标签和真实标签相等，则将正确分类的数量（分类准确度）加一，用于后续计算模型的性能评估指标\n",
    "\n",
    "        # perform testing of the model\n",
    "        model.eval()#将模型切换到评估模式，用于测试或验证模型的性能。在评估模式下，模型不会应用 dropout 和 batch normalization 等技术\n",
    "        test_correct = 0#初始化测试数据集中正确分类的数量\n",
    "        for sentence, tag in test_data:#对于测试数据集中的每个句子和对应的标签，进行循环迭代\n",
    "            sentence = torch.tensor(sentence).type(type)#将句子转换为 PyTorch 张量类型，并根据设置的数据类型 type 进行数据类型转换\n",
    "            output = model(sentence)#输入句子到模型中进行前向计算，得到模型的预测结果\n",
    "            predicted = torch.argmax(output.data.detach()).item()#对模型的预测结果进行 argmax 操作，得到预测标签，使用与训练时相同的方法\n",
    "            if predicted == tag: test_correct += 1#如果模型的预测标签和真实标签相等，则将测试数据集中正确分类的数量加一，用于后续计算模型的性能评估指标\n",
    "        \n",
    "        # print model performance results\n",
    "        #使用 f-string 格式化字符串，将迭代次数、训练集平均损失值、训练集分类准确度和测试集分类准确度等信息显示在一行中\n",
    "        log = f'ITER: {ITER+1} | ' \\\n",
    "            f'train loss/sent: {total_loss/len(train_data):.4f} | ' \\\n",
    "            f'train accuracy: {train_correct/len(train_data):.4f} | ' \\\n",
    "            f'test accuracy: {test_correct/len(test_data):.4f}'\n",
    "        print(log)#打印输出模型在测试数据集上的性能表现\n",
    "\n",
    "# call the train_bow function\n",
    "train_bow(model, optimizer, criterion, train_data)#一个 BoW 模型训练函数，接受模型、优化器、损失函数和训练数据集为参数"
   ]
  }
 ],
 "metadata": {
  "kernelspec": {
   "display_name": "Python 3 (ipykernel)",
   "language": "python",
   "name": "python3"
  },
  "language_info": {
   "codemirror_mode": {
    "name": "ipython",
    "version": 3
   },
   "file_extension": ".py",
   "mimetype": "text/x-python",
   "name": "python",
   "nbconvert_exporter": "python",
   "pygments_lexer": "ipython3",
   "version": "3.9.2"
  },
  "vscode": {
   "interpreter": {
    "hash": "154abf72fb8cc0db1aa0e7366557ff891bff86d6d75b7e5f2e68a066d591bfd7"
   }
  }
 },
 "nbformat": 4,
 "nbformat_minor": 2
}
