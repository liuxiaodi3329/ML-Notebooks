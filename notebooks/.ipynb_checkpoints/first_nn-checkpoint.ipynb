{
 "cells": [
  {
   "cell_type": "markdown",
   "metadata": {},
   "source": [
    "## First Neural Network: Image Classification \n",
    "\n",
    "Objectives:\n",
    "- Train a minimal image classifier on [MNIST](https://paperswithcode.com/dataset/mnist) using PyTorch\n",
    "- Usese PyTorch and torchvision"
   ]
  },
  {
   "cell_type": "code",
   "execution_count": 1,
   "metadata": {},
   "outputs": [],
   "source": [
    "# The usual imports\n",
    "\n",
    "import torch#导入PyTorch库\n",
    "import torch.nn as nn#导入PyTorch的神经网络模块\n",
    "import torchvision#导入PyTorch的计算机视觉库\n",
    "import torchvision.transforms as transforms#导入PyTorch计算机视觉库中的变换模块"
   ]
  },
  {
   "cell_type": "code",
   "execution_count": 2,
   "metadata": {},
   "outputs": [],
   "source": [
    "# load the data\n",
    "\n",
    "class ReshapeTransform:#定义一个自定义变换类，用于重塑图像大小\n",
    "    def __init__(self, new_size): # 初始化方法，存储新的图像大小\n",
    "        self.new_size = new_size\n",
    "    \n",
    "    def __call__(self, img):# 重写 __call__ 方法，接受一个图像参数并返回处理后的图像\n",
    "        return torch.reshape(img, self.new_size)# # 调用 PyTorch 的 reshape 方法改变图像形状，并返回新的张量\n",
    "#定义一个变换序列，将图像转换为张量，并将类型转换为float32，然后应用自定义变换类\n",
    "transformations = transforms.Compose([\n",
    "                                transforms.ToTensor(),\n",
    "                                transforms.ConvertImageDtype(torch.float32),\n",
    "                                ReshapeTransform((-1,))\n",
    "                                ])\n",
    "# 使用 torchvision.datasets.MNIST 加载训练集，指定数据集目录、是否训练集、是否下载数据、以及应用的变换器\n",
    "trainset = torchvision.datasets.MNIST(root='./data', train=True,\n",
    "                                        download=True, transform=transformations)\n",
    "# 使用 torchvision.datasets.MNIST 加载测试集，指定数据集目录、是否训练集、是否下载数据、以及应用的变换器\n",
    "testset = torchvision.datasets.MNIST(root='./data', train=False,\n",
    "                                       download=True, transform=transformations)"
   ]
  },
  {
   "cell_type": "code",
   "execution_count": 3,
   "metadata": {},
   "outputs": [
    {
     "data": {
      "text/plain": [
       "(torch.Size([60000, 28, 28]), torch.Size([10000, 28, 28]))"
      ]
     },
     "execution_count": 3,
     "metadata": {},
     "output_type": "execute_result"
    }
   ],
   "source": [
    "# check shape of data\n",
    "\n",
    "trainset.data.shape, testset.data.shape#获取训练集和测试集的图像形状"
   ]
  },
  {
   "cell_type": "code",
   "execution_count": 4,
   "metadata": {},
   "outputs": [],
   "source": [
    "# data loader\n",
    "\n",
    "BATCH_SIZE = 128#定义一个批次大小为128的常量\n",
    "train_dataloader = torch.utils.data.DataLoader(trainset, \n",
    "                                               batch_size=BATCH_SIZE,\n",
    "                                               shuffle=True, \n",
    "                                               num_workers=0)\n",
    "#创建一个用于训练的数据加载器对象，它会从 trainset 中加载数据，并且把数据分割成大小为 BATCH_SIZE 的批次进行训练\n",
    "test_dataloader = torch.utils.data.DataLoader(testset, \n",
    "                                              batch_size=BATCH_SIZE,\n",
    "                                              shuffle=False, \n",
    "                                              num_workers=0)\n",
    "#创建一个用于测试的数据加载器对象，它跟训练数据加载器对象类似，只是 shuffle 参数设置为 False，因为在测试过程中不需要重新洗牌"
   ]
  },
  {
   "cell_type": "code",
   "execution_count": 5,
   "metadata": {},
   "outputs": [],
   "source": [
    "# model\n",
    "\n",
    "model = nn.Sequential(# 创建一个神经网络模型，其输入维度为 784，输出维度为 10\n",
    "    nn.Linear(784, 512), # 创建一个全连接层，其输入维度为 784，输出维度为 512\n",
    "    nn.ReLU(),# 创建一个激活函数层 ReLU，将其作为第一层的输出，用于增加网络的非线性表示能力\n",
    "    nn.Linear(512, 10))# 创建一个全连接层，其输入维度为 512，输出维度为 10，作为神经网络的输出层"
   ]
  },
  {
   "cell_type": "code",
   "execution_count": 6,
   "metadata": {},
   "outputs": [],
   "source": [
    "# training preparation\n",
    "\n",
    "trainer = torch.optim.RMSprop(model.parameters())#定义了一个 RMSprop 优化器，用于更新模型中的参数\n",
    "loss = nn.CrossEntropyLoss()#定义了一个交叉熵损失函数，用于计算模型预测值与真实值之间的误差"
   ]
  },
  {
   "cell_type": "code",
   "execution_count": 7,
   "metadata": {},
   "outputs": [],
   "source": [
    "def get_accuracy(output, target, batch_size):## 获取模型预测的结果中最大概率所对应的标签，并将其 resize 到与实际标签相同的大小\n",
    "    # Obtain accuracy for training round\n",
    "    corrects = (torch.max(output, 1)[1].view(target.size()).data == target.data).sum()# 统计正确预测的数量\n",
    "    accuracy = 100.0 * corrects/batch_size# 计算预测准确率并返回\n",
    "    return accuracy.item()"
   ]
  },
  {
   "cell_type": "code",
   "execution_count": 8,
   "metadata": {},
   "outputs": [
    {
     "name": "stdout",
     "output_type": "stream",
     "text": [
      "Epoch: 1 | Train loss: 0.9943 | Train Accuracy: 91.7344\n",
      "Epoch: 2 | Train loss: 0.1334 | Train Accuracy: 95.9422\n",
      "Epoch: 3 | Train loss: 0.1030 | Train Accuracy: 96.8767\n",
      "Epoch: 4 | Train loss: 0.0845 | Train Accuracy: 97.4997\n",
      "Epoch: 5 | Train loss: 0.0735 | Train Accuracy: 97.8811\n"
     ]
    }
   ],
   "source": [
    "# train\n",
    "\n",
    "for ITER in range(5):\n",
    "    train_acc = 0.0# 初始化训练过程中的损失值为0\n",
    "    train_running_loss = 0.0\n",
    "\n",
    "    model.train()# 将模型设置为训练模式\n",
    "    for i, (X, y) in enumerate(train_dataloader):# 遍历训练集数据迭代器\n",
    "        output = model(X) # 前向传播计算模型输出\n",
    "        l = loss(output, y)# 计算预测结果与真实标签之间的损失\n",
    "\n",
    "        # update the parameters\n",
    "        l.backward()# 反向传播，计算参数的梯度\n",
    "        trainer.step() # 使用优化器更新参数\n",
    "        trainer.zero_grad()# 梯度清零，以便下次计算\n",
    "\n",
    "        # gather metrics\n",
    "        train_acc += get_accuracy(output, y, BATCH_SIZE) # 计算当前 mini-batch 的预测准确率和总损失\n",
    "        train_running_loss += l.detach().item()\n",
    "\n",
    "    print('Epoch: %d | Train loss: %.4f | Train Accuracy: %.4f' \\\n",
    "          %(ITER+1, train_running_loss / (i+1),train_acc/(i+1)))# 打印当前 epoch 的平均损失和准确率"
   ]
  },
  {
   "cell_type": "markdown",
   "metadata": {},
   "source": [
    "### Other things to try\n",
    "\n",
    "- Evaluate on test set\n",
    "- Plot loss curve\n",
    "- Add more layers to the model"
   ]
  }
 ],
 "metadata": {
  "kernelspec": {
   "display_name": "Python 3 (ipykernel)",
   "language": "python",
   "name": "python3"
  },
  "language_info": {
   "codemirror_mode": {
    "name": "ipython",
    "version": 3
   },
   "file_extension": ".py",
   "mimetype": "text/x-python",
   "name": "python",
   "nbconvert_exporter": "python",
   "pygments_lexer": "ipython3",
   "version": "3.9.2"
  },
  "vscode": {
   "interpreter": {
    "hash": "cf9800998463bc980d70cdbacff0c7e9a10687346dc898569e92f016d6e252c9"
   }
  }
 },
 "nbformat": 4,
 "nbformat_minor": 2
}
