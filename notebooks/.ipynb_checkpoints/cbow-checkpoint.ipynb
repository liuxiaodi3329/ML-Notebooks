{
 "cells": [
  {
   "cell_type": "markdown",
   "metadata": {},
   "source": [
    "# Continuous Bag of Words (CBOW) Text Classifier\n",
    "\n",
    "The code below implements a continuous bag of words text classifier.\n",
    "- We tokenize the text, create a vocabulary and encode each piece of text in the dataset\n",
    "- The lookup allows for extracting embeddings for each tokenized input\n",
    "- The embedding vectors are added together\n",
    "- The resulting vector is multiplied with a weight matrix, which is then added a bias vector; this results in scores\n",
    "- The scores are applied a softmax to generate probabilities which are used for the final classification\n",
    "\n",
    "The code used in this notebook was inspired by code from the [official repo](https://github.com/neubig/nn4nlp-code) used in the [CMU Neural Networks for NLP class](http://www.phontron.com/class/nn4nlp2021/schedule.html) by [Graham Neubig](http://www.phontron.com/index.php). \n",
    "\n",
    "![img txt](../img/cbow.png?raw=true)"
   ]
  },
  {
   "cell_type": "code",
   "execution_count": 1,
   "metadata": {},
   "outputs": [],
   "source": [
    "import torch#导入torch库，用于进行深度学习相关的操作\n",
    "import random#导入random库，用于生成随机数\n",
    "import torch.nn as nn#导入torch.nn模块，提供了深度神经网络相关的类和函数，用于构建神经网络模型"
   ]
  },
  {
   "cell_type": "code",
   "execution_count": null,
   "metadata": {},
   "outputs": [],
   "source": [
    "% % capture\n",
    "''' uncomment to download the data\n",
    "# download the files\n",
    "!wget https://raw.githubusercontent.com/neubig/nn4nlp-code/master/data/classes/dev.txt\n",
    "!wget https://raw.githubusercontent.com/neubig/nn4nlp-code/master/data/classes/test.txt\n",
    "!wget https://raw.githubusercontent.com/neubig/nn4nlp-code/master/data/classes/train.txt\n",
    "\n",
    "# create the data folders\n",
    "!mkdir data data/classes\n",
    "!cp dev.txt data/classes\n",
    "!cp test.txt data/classes\n",
    "!cp train.txt data/classes\n",
    "'''"
   ]
  },
  {
   "cell_type": "markdown",
   "metadata": {},
   "source": [
    "## Read and Process Data"
   ]
  },
  {
   "cell_type": "code",
   "execution_count": 2,
   "metadata": {},
   "outputs": [],
   "source": [
    "# function to read in data, process each line and split columns by \" ||| \"\n",
    "def read_data(filename):\n",
    "    data = []\n",
    "    with open(filename, 'r') as f:\n",
    "        for line in f:\n",
    "            line = line.lower().strip()# 将读取的每一行文本转换为小写并去除首尾的空格\n",
    "            line = line.split(' ||| ')#使用\" ||| \"将文本切割为两部分\n",
    "            data.append(line) # 将切割后的文本添加到data列表中\n",
    "    return data# 返回处理后的数据列表\n",
    "\n",
    "\n",
    "train_data = read_data('data/classes/train.txt')# 调用read_data函数读取训练数据并存储在train_data变量中\n",
    "test_data = read_data('data/classes/test.txt')# 调用read_data函数读取测试数据并存储在test_data变量中\n",
    "\n",
    "\n",
    "# creating the word and tag indices\n",
    "word_to_index = {}# 创建一个空字典，用于存储单词到索引的映射关系\n",
    "word_to_index[\"<unk>\"] = len(word_to_index)  # add <UNK> to dictionary# 将<unk>作为未知单词添加到字典中，并分配给它一个索引值\n",
    "tag_to_index = {}# 创建一个空字典，用于存储标签到索引的映射关系\n",
    "\n",
    "# create word to index dictionary and tag to index dictionary from data\n",
    "def create_dict(data, check_unk=False):\n",
    "    for line in data:# 遍历数据中的每一行\n",
    "        for word in line[1].split(\" \"): # 将每行中的第二部分（句子）按空格切割成单词，并遍历每个单词\n",
    "            if check_unk == False:# 如果 check_unk 参数为 False\n",
    "                if word not in word_to_index:# 如果单词不在 word_to_index 字典中\n",
    "                    word_to_index[word] = len(word_to_index)# 将该单词添加到字典中，并分配给它一个索引值\n",
    "            else:# 如果 check_unk 参数为 True\n",
    "                if word not in word_to_index: # 如果单词不在 word_to_index 字典中\n",
    "                    word_to_index[word] = word_to_index[\"<unk>\"] # 将该单词的索引值设为 <unk> 单词的索引值\n",
    "\n",
    "        if line[0] not in tag_to_index:# 如果标签不在 tag_to_index 字典中\n",
    "            tag_to_index[line[0]] = len(tag_to_index)# 将该标签添加到字典中，并分配给它一个索引值\n",
    "\n",
    "\n",
    "\n",
    "create_dict(train_data) # 调用 create_dict 函数，处理训练数据，更新 word_to_index 和 tag_to_index 字典\n",
    "create_dict(test_data, check_unk=True)# 调用 create_dict 函数，处理测试数据，更新 word_to_index 和 tag_to_index 字典\n",
    "\n",
    "# create word and tag tensors from data\n",
    "def create_tensor(data):\n",
    "    for line in data:# 遍历数据中的每一行\n",
    "        yield ([word_to_index[word] for word in line[1].split(\" \")], tag_to_index[line[0]])\n",
    "        # 将每行的句子部分转换为一系列单词的索引构成的列表，将行的标签转换为标签的索引值，并使用 yield 关键字返回\n",
    "\n",
    "train_data = list(create_tensor(train_data))# 调用 create_tensor 函数处理训练数据，并将返回的结果转换为列表\n",
    "test_data = list(create_tensor(test_data)) # 调用 create_tensor 函数处理测试数据，并将返回的结果转换为列表\n",
    "\n",
    "number_of_words = len(word_to_index) # 获取单词索引字典的大小，即单词的个数\n",
    "number_of_tags = len(tag_to_index) # 获取标签索引字典的大小，即标签的个数"
   ]
  },
  {
   "cell_type": "markdown",
   "metadata": {},
   "source": [
    "## Model"
   ]
  },
  {
   "cell_type": "code",
   "execution_count": 1,
   "metadata": {},
   "outputs": [
    {
     "ename": "NameError",
     "evalue": "name 'torch' is not defined",
     "output_type": "error",
     "traceback": [
      "\u001b[0;31m---------------------------------------------------------------------------\u001b[0m",
      "\u001b[0;31mNameError\u001b[0m                                 Traceback (most recent call last)",
      "\u001b[0;32m/tmp/ipykernel_3236/4002993260.py\u001b[0m in \u001b[0;36m<module>\u001b[0;34m\u001b[0m\n\u001b[1;32m      1\u001b[0m \u001b[0;31m# cpu or gpu\u001b[0m\u001b[0;34m\u001b[0m\u001b[0;34m\u001b[0m\u001b[0;34m\u001b[0m\u001b[0m\n\u001b[0;32m----> 2\u001b[0;31m \u001b[0mdevice\u001b[0m \u001b[0;34m=\u001b[0m \u001b[0;34m\"cuda\"\u001b[0m \u001b[0;32mif\u001b[0m \u001b[0mtorch\u001b[0m\u001b[0;34m.\u001b[0m\u001b[0mcuda\u001b[0m\u001b[0;34m.\u001b[0m\u001b[0mis_available\u001b[0m\u001b[0;34m(\u001b[0m\u001b[0;34m)\u001b[0m \u001b[0;32melse\u001b[0m \u001b[0;34m\"cpu\"\u001b[0m\u001b[0;34m\u001b[0m\u001b[0;34m\u001b[0m\u001b[0m\n\u001b[0m\u001b[1;32m      3\u001b[0m \u001b[0;34m\u001b[0m\u001b[0m\n\u001b[1;32m      4\u001b[0m \u001b[0;31m# create a simple neural network with embedding layer, bias, and xavier initialization\u001b[0m\u001b[0;34m\u001b[0m\u001b[0;34m\u001b[0m\u001b[0;34m\u001b[0m\u001b[0m\n\u001b[1;32m      5\u001b[0m \u001b[0;32mclass\u001b[0m \u001b[0mCBoW\u001b[0m\u001b[0;34m(\u001b[0m\u001b[0mtorch\u001b[0m\u001b[0;34m.\u001b[0m\u001b[0mnn\u001b[0m\u001b[0;34m.\u001b[0m\u001b[0mModule\u001b[0m\u001b[0;34m)\u001b[0m\u001b[0;34m:\u001b[0m\u001b[0;34m\u001b[0m\u001b[0;34m\u001b[0m\u001b[0m\n",
      "\u001b[0;31mNameError\u001b[0m: name 'torch' is not defined"
     ]
    }
   ],
   "source": [
    "# cpu or gpu\n",
    "device = \"cuda\" if torch.cuda.is_available() else \"cpu\"\n",
    "#用于选择运行代码的设备，如果可用的话会使用CUDA（GPU），否则使用CPU\n",
    "# create a simple neural network with embedding layer, bias, and xavier initialization\n",
    "class CBoW(torch.nn.Module):\n",
    "    def __init__(self, nwords, ntags, emb_size):\n",
    "        super(CBoW, self).__init__()\n",
    "\n",
    "        # layers\n",
    "        self.embedding = torch.nn.Embedding(nwords, emb_size)# 定义一个词嵌入层，输入大小为 nwords，输出大小为 emb_size\n",
    "        self.linear = torch.nn.Linear(emb_size, ntags)# 定义一个线性层，输入大小为 emb_size，输出大小为 ntags\n",
    "\n",
    "        # use xavier initialization for weights\n",
    "        nn.init.xavier_uniform_(self.embedding.weight) # 使用 Xavier 初始化方法初始化词嵌入层的权重\n",
    "        nn.init.xavier_uniform_(self.linear.weight)# 使用 Xavier 初始化方法初始化线性层的权重\n",
    "\n",
    "    def forward(self, x):\n",
    "        emb = self.embedding(x)  # seq x emb_size# 将输入 x 通过词嵌入层进行嵌入操作，得到嵌入向量 emb (seq x emb_size)\n",
    "        out = torch.sum(emb, dim=0)  # emb_size# 对嵌入向量进行求和，沿着维度0进行求和，得到输出 out (emb_size)\n",
    "        out = out.view(1, -1)  # reshape to (1, emb_size)# 将 out 重塑为大小为 (1, emb_size) 的张量\n",
    "        out = self.linear(out)  # 1 x ntags# 将重塑后的 out 输入线性层，得到输出结果 out (1 x ntags)\n",
    "        return out\n",
    "        return out\n",
    "\n",
    "\n",
    "EMB_SIZE = 64# 设置嵌入向量的维度大小为64\n",
    "model = CBoW(number_of_words, number_of_tags, EMB_SIZE) # 创建一个CBoW模型实例，输入大小为number_of_words，输出大小为number_of_tags，嵌入向量维度大小为EMB_SIZE\n",
    "criterion = torch.nn.CrossEntropyLoss() # 定义交叉熵损失函数\n",
    "optimizer = torch.optim.Adam(model.parameters())# 使用Adam优化器来更新模型的参数\n",
    "type = torch.LongTensor # 设置数据类型为LongTensor\n",
    "\n",
    "if torch.cuda.is_available(): # 如果CUDA可用\n",
    "    model.to(device)# 将模型移动到设备(device)，即将模型放在GPU上运行\n",
    "    type = torch.cuda.LongTensor # 设置数据类型为CUDA版本的LongTensor"
   ]
  },
  {
   "cell_type": "markdown",
   "metadata": {},
   "source": [
    "## Train the Model"
   ]
  },
  {
   "cell_type": "code",
   "execution_count": 4,
   "metadata": {},
   "outputs": [
    {
     "name": "stdout",
     "output_type": "stream",
     "text": [
      "epoch: 1 | train loss/sent: 1.4111 | train accuracy: 0.3841 | test accuracy: 0.3982\n",
      "epoch: 2 | train loss/sent: 0.8886 | train accuracy: 0.6522 | test accuracy: 0.3991\n",
      "epoch: 3 | train loss/sent: 0.5147 | train accuracy: 0.8148 | test accuracy: 0.3950\n",
      "epoch: 4 | train loss/sent: 0.3200 | train accuracy: 0.8878 | test accuracy: 0.3796\n",
      "epoch: 5 | train loss/sent: 0.2148 | train accuracy: 0.9247 | test accuracy: 0.3738\n",
      "epoch: 6 | train loss/sent: 0.1536 | train accuracy: 0.9466 | test accuracy: 0.3783\n",
      "epoch: 7 | train loss/sent: 0.1097 | train accuracy: 0.9618 | test accuracy: 0.3638\n",
      "epoch: 8 | train loss/sent: 0.0797 | train accuracy: 0.9716 | test accuracy: 0.3692\n",
      "epoch: 9 | train loss/sent: 0.0568 | train accuracy: 0.9805 | test accuracy: 0.3661\n",
      "epoch: 10 | train loss/sent: 0.0435 | train accuracy: 0.9853 | test accuracy: 0.3529\n"
     ]
    }
   ],
   "source": [
    "# perform training of the Bow model\n",
    "\n",
    "for epoch in range(10):\n",
    "    # perform training\n",
    "    model.train()# 将模型设置为训练模式\n",
    "    random.shuffle(train_data)# 对训练数据进行随机洗牌\n",
    "    total_loss = 0.0# 初始化总损失\n",
    "    train_correct = 0# 初始化训练正确的样本数量\n",
    "    for sentence, tag in train_data:# 遍历训练数据的每个样本\n",
    "        sentence = torch.tensor(sentence).type(type)# 将句子转换为张量，并设置数据类型\n",
    "        tag = torch.tensor([tag]).type(type)# 将标签转换为张量，并设置数据类型\n",
    "        output = model(sentence)# 使用模型进行前向传播，得到输出结果\n",
    "        predicted = torch.argmax(output.data.detach()).item()# 从输出结果中获取预测值（预测标签的索引）\n",
    "\n",
    "        loss = criterion(output, tag)# 计算损失\n",
    "        total_loss += loss.item()# 累加总损失\n",
    "\n",
    "        optimizer.zero_grad()# 清空之前参数的梯度\n",
    "        loss.backward()# 通过反向传播计算梯度\n",
    "        optimizer.step()# 根据梯度更新参数\n",
    "\n",
    "        if predicted == tag:# 如果预测标签等于真实标签\n",
    "            train_correct += 1# 增加训练正确的样本数量\n",
    "\n",
    "    # perform testing of the model\n",
    "    model.eval()# 将模型设置为评估模式\n",
    "    test_correct = 0# 初始化测试正确的样本数量\n",
    "    for sentence, tag in test_data:# 遍历测试数据的每个样本\n",
    "        sentence = torch.tensor(sentence).type(type)# 将句子转换为张量，并设置数据类型\n",
    "        output = model(sentence) # 使用模型进行前向传播，得到输出结果\n",
    "        predicted = torch.argmax(output.data.detach()).item()# 从输出结果中获取预测值（预测标签的索引）\n",
    "        if predicted == tag:# 如果预测标签等于真实标签\n",
    "            test_correct += 1# 增加测试正确的样本数量\n",
    "\n",
    "    # print model performance results\n",
    "    log = f'epoch: {epoch+1} | ' \\\n",
    "        f'train loss/sent: {total_loss/len(train_data):.4f} | ' \\\n",
    "        f'train accuracy: {train_correct/len(train_data):.4f} | ' \\\n",
    "        f'test accuracy: {test_correct/len(test_data):.4f}'\n",
    "    print(log)"
   ]
  }
 ],
 "metadata": {
  "kernelspec": {
   "display_name": "Python 3 (ipykernel)",
   "language": "python",
   "name": "python3"
  },
  "language_info": {
   "codemirror_mode": {
    "name": "ipython",
    "version": 3
   },
   "file_extension": ".py",
   "mimetype": "text/x-python",
   "name": "python",
   "nbconvert_exporter": "python",
   "pygments_lexer": "ipython3",
   "version": "3.9.2"
  },
  "vscode": {
   "interpreter": {
    "hash": "d4d1e4263499bec80672ea0156c357c1ee493ec2b1c70f0acce89fc37c4a6abe"
   }
  }
 },
 "nbformat": 4,
 "nbformat_minor": 2
}
