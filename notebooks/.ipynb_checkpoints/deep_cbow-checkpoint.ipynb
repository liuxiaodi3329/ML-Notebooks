{
 "cells": [
  {
   "cell_type": "markdown",
   "metadata": {},
   "source": [
    "# Deep Continuous Bag of Words (Deep CBOW) Text Classifier\n",
    "\n",
    "The code below implements a continuous bag of words text classifier.\n",
    "- We tokenize the text, create a vocabulary and encode each piece of text in the dataset\n",
    "- We create embeddings for inputs and sum them together\n",
    "- The resulting vector is fed to hidden neural network, which generates a new vector that is multiplied to a weights matrix\n",
    "- We then add the bias and obtain scores\n",
    "- The scores are applied a softmax to generate probabilities which are used for the final classification\n",
    "\n",
    "The code used in this notebook was inspired by code from the [official repo](https://github.com/neubig/nn4nlp-code) used in the [CMU Neural Networks for NLP class](http://www.phontron.com/class/nn4nlp2021/schedule.html) by [Graham Neubig](http://www.phontron.com/index.php). \n",
    "\n",
    "![img txt](https://github.com/dair-ai/ML-Notebooks/blob/main/img/deep_cbow.png?raw=true)"
   ]
  },
  {
   "cell_type": "code",
   "execution_count": 1,
   "metadata": {},
   "outputs": [],
   "source": [
    "import torch#导入了PyTorch库，用于进行深度学习任务和张量运算\n",
    "import random#导入了random模块，用于生成随机数\n",
    "import torch.nn as nn#导入了PyTorch的nn模块，其中包含了定义神经网络层和模型的基本类"
   ]
  },
  {
   "cell_type": "code",
   "execution_count": null,
   "metadata": {},
   "outputs": [],
   "source": [
    "''' uncomment to download the data\n",
    "%%capture\n",
    "\n",
    "# download the files\n",
    "!wget https://raw.githubusercontent.com/neubig/nn4nlp-code/master/data/classes/dev.txt\n",
    "!wget https://raw.githubusercontent.com/neubig/nn4nlp-code/master/data/classes/test.txt\n",
    "!wget https://raw.githubusercontent.com/neubig/nn4nlp-code/master/data/classes/train.txt\n",
    "\n",
    "# create the data folders\n",
    "!mkdir data data/classes\n",
    "!cp dev.txt data/classes\n",
    "!cp test.txt data/classes\n",
    "!cp train.txt data/classes\n",
    "'''"
   ]
  },
  {
   "cell_type": "markdown",
   "metadata": {},
   "source": [
    "## Read and Process the Data"
   ]
  },
  {
   "cell_type": "code",
   "execution_count": 2,
   "metadata": {},
   "outputs": [],
   "source": [
    "# function to read in data, process each line and split columns by \" ||| \"\n",
    "def read_data(filename):#从文件中读取数据并返回一个列表\n",
    "    data = []#创建一个空列表 data 用于存储读取的数据\n",
    "    with open(filename, 'r') as f:#使用 open 函数打开指定的文件，以只读模式进行读取。文件对象被绑定到名称 f 上\n",
    "        for line in f:#对于文件中的每一行，执行以下操作\n",
    "            line = line.lower().strip()#将当前行的内容转换为小写并去除首尾的空白字符\n",
    "            line = line.split(' ||| ')#将当前行按照 \" ||| \" 进行分割，得到一个列表\n",
    "            data.append(line)#将分割后的行（以列表形式表示）添加到 data 列表中\n",
    "    return data#返回存储着所有行数据的列表 data\n",
    "\n",
    "train_data = read_data('data/classes/train.txt')#从文件\"data/classes/train.txt\"中读取训练数据，并将结果存储在 train_data 变量中\n",
    "test_data = read_data('data/classes/test.txt')#从文件\"data/classes/test.txt\"中读取测试数据，并将结果存储在 test_data 变量中\n",
    "\n",
    "# creating the word and tag indices\n",
    "word_to_index = {}#创建一个空字典 word_to_index 用于存储单词到索引的映射\n",
    "word_to_index[\"<unk>\"] = len(word_to_index) # add <UNK> to dictionary#将 <unk> 添加到 word_to_index 字典中，其对应的索引为当前 word_to_index 的长度\n",
    "tag_to_index = {}#创建一个空字典 tag_to_index 用于存储标签到索引的映射\n",
    "\n",
    "# create word to index dictionary and tag to index dictionary from data\n",
    "def create_dict(data, check_unk=False):#定义名为 create_dict 的函数\n",
    "    for line in data:#对于 data 列表中的每一行，执行以下操作\n",
    "        for word in line[1].split(\" \"):#对于当前行中第一个元素（索引为 1）按空格进行分割后的单词列表，执行以下操作\n",
    "            if check_unk == False:#如果 check_unk 为 False，将当前单词 word 添加到 word_to_index 字典中\n",
    "                if word not in word_to_index:#如果单词不存在于 word_to_index 中\n",
    "                    word_to_index[word] = len(word_to_index)#对应的索引为当前 word_to_index 的长度\n",
    "            else:#如果 check_unk 为 True，将当前单词 word 添加到 word_to_index 字典中\n",
    "                if word not in word_to_index:#如果单词不存在于 word_to_index 中\n",
    "                    word_to_index[word] = word_to_index[\"<unk>\"]#则对应的索引为 <unk> 的索引\n",
    "\n",
    "        if line[0] not in tag_to_index:#如果当前行的第一个元素（索引为 0）不存在于 tag_to_index 字典中\n",
    "            tag_to_index[line[0]] = len(tag_to_index)#则将其添加到 tag_to_index 字典中\n",
    "\n",
    "create_dict(train_data)#调用 create_dict 函数，传入训练数据 train_data\n",
    "create_dict(test_data, check_unk=True)#调用 create_dict 函数，传入测试数据 test_data，同时设置 check_unk 为 True\n",
    "\n",
    "# create word and tag tensors from data\n",
    "def create_tensor(data):\n",
    "    for line in data:\n",
    "        yield([word_to_index[word] for word in line[1].split(\" \")], tag_to_index[line[0]])\n",
    "        #使用 yield 关键字将索引列表和标签索引生成为迭代器的下一个值\n",
    "train_data = list(create_tensor(train_data))#通过 create_tensor 函数生成的迭代器转换为列表\n",
    "test_data = list(create_tensor(test_data))#通过 create_tensor 函数生成的迭代器转换为列表\n",
    "\n",
    "number_of_words = len(word_to_index)#计算 word_to_index 字典中的键的数量\n",
    "number_of_tags = len(tag_to_index)#计算 tag_to_index 字典中的键的数量"
   ]
  },
  {
   "cell_type": "markdown",
   "metadata": {},
   "source": [
    "## Model"
   ]
  },
  {
   "cell_type": "code",
   "execution_count": 3,
   "metadata": {},
   "outputs": [],
   "source": [
    "device = \"cuda\" if torch.cuda.is_available() else \"cpu\"\n",
    "#检查当前系统是否支持CUDA，如果支持，则将device设置为\"cuda\"，否则将其设置为\"cpu\"\n",
    "# create a simple neural network with embedding layer, bias, and xavier initialization\n",
    "class DeepCBoW(nn.Module):\n",
    "    def __init__(self, nwords, ntags, hidden_size, num_layers, emb_size):\n",
    "        super(DeepCBoW, self).__init__()#初始化 num_layers 属性，用于指定模型的层数\n",
    "\n",
    "        self.num_layers = num_layers\n",
    "\n",
    "        # layers\n",
    "        self.embedding = nn.Embedding(nwords, emb_size)#创建一个 nn.Embedding 实例 self.embedding\n",
    "        self.linears = nn.ModuleList([nn.Linear(emb_size if i ==0 else hidden_size, hidden_size) \\\n",
    "         #创建一个 nn.ModuleList 实例 self.linears\n",
    "        for i in range(num_layers)])\n",
    "\n",
    "        # use xavier initialization for weights\n",
    "        nn.init.xavier_uniform_(self.embedding.weight)#使用 Xavier 初始化方法对嵌入层和线性层的权重进行初始化\n",
    "        for i in range(self.num_layers):\n",
    "            nn.init.xavier_uniform_(self.linears[i].weight)\n",
    "\n",
    "        # output layer\n",
    "        self.output_layer = nn.Linear(hidden_size, ntags)#创建一个线性层 self.output_layer，输入大小为 hidden_size，输出大小为 ntags\n",
    "\n",
    "    def forward(self, x):#定义前向传播函数 forward，接受输入 x\n",
    "        emb = self.embedding(x) # seq x emb_size#将输入 x 通过嵌入层 self.embedding 进行嵌入\n",
    "        emb_sum = torch.sum(emb, dim=0) # emb_size#对 emb 沿着第 0 维度进行求和，得到 emb_sum\n",
    "        h = emb_sum.view(1, -1) # reshape to (1, emb_size)\n",
    "        for i in range(self.num_layers):\n",
    "            h = torch.tanh(self.linears[i](h))#于 num_layers 层，将 h 传递给线性层 self.linears[i]，并通过 torch.tanh 进行非线性变换，更新 h\n",
    "        out = self.output_layer(h) # 1 x ntags#将 h 传递给输出层 self.output_layer，得到输出 out。out 的维度为 1 x ntags\n",
    "        return out#返回输出 out\n",
    "\n",
    "HIDDEN_SIZE = 64#设置隐藏层的维度为64\n",
    "NUM_LAYERS = 2 # hidden layers#设置隐藏层的数量为2\n",
    "EMB_SIZE = 64#设置嵌入层的维度为64\n",
    "#创建一个名为model的深层CBoW模型实例\n",
    "model = DeepCBoW(number_of_words, number_of_tags, HIDDEN_SIZE, NUM_LAYERS, EMB_SIZE).to(device)\n",
    "criterion = nn.CrossEntropyLoss()#创建一个交叉熵损失函数实例 criterion\n",
    "optimizer = torch.optim.Adam(model.parameters())#创建一个Adam优化器实例 optimizer，用于优化模型的参数\n",
    "type = torch.LongTensor#创建一个变量type，初始化为torch.LongTensor\n",
    "#检查当前系统是否支持CUDA。如果支持，则将模型移动到device上，并将type设置为torch.cuda.LongTensor，以充分利用GPU进行计算\n",
    "if torch.cuda.is_available():\n",
    "    model.to(device)\n",
    "    type = torch.cuda.LongTensor"
   ]
  },
  {
   "cell_type": "markdown",
   "metadata": {},
   "source": [
    "## Model Training"
   ]
  },
  {
   "cell_type": "code",
   "execution_count": 4,
   "metadata": {},
   "outputs": [
    {
     "name": "stdout",
     "output_type": "stream",
     "text": [
      "epoch: 1 | train loss/sent: 1.4293 | train accuracy: 0.3765 | test accuracy: 0.3941\n",
      "epoch: 2 | train loss/sent: 1.0343 | train accuracy: 0.5729 | test accuracy: 0.4127\n",
      "epoch: 3 | train loss/sent: 0.6565 | train accuracy: 0.7583 | test accuracy: 0.3801\n",
      "epoch: 4 | train loss/sent: 0.4013 | train accuracy: 0.8586 | test accuracy: 0.3783\n",
      "epoch: 5 | train loss/sent: 0.2659 | train accuracy: 0.9079 | test accuracy: 0.3959\n",
      "epoch: 6 | train loss/sent: 0.1747 | train accuracy: 0.9419 | test accuracy: 0.3787\n",
      "epoch: 7 | train loss/sent: 0.1257 | train accuracy: 0.9573 | test accuracy: 0.3805\n",
      "epoch: 8 | train loss/sent: 0.0860 | train accuracy: 0.9702 | test accuracy: 0.3719\n",
      "epoch: 9 | train loss/sent: 0.0652 | train accuracy: 0.9768 | test accuracy: 0.3747\n",
      "epoch: 10 | train loss/sent: 0.0434 | train accuracy: 0.9860 | test accuracy: 0.3887\n"
     ]
    },
    {
     "name": "stderr",
     "output_type": "stream",
     "text": [
      "Bad pipe message: %s [b'I7{\\xddYY9\\x10\\xe5', b\"\\xee\\x8a\\xf0\\xff\\xe6\\x1a\\xd2\\x00\\x00|\\xc0,\\xc00\\x00\\xa3\\x00\\x9f\\xcc\\xa9\\xcc\\xa8\\xcc\\xaa\\xc0\\xaf\\xc0\\xad\\xc0\\xa3\\xc0\\x9f\\xc0]\\xc0a\\xc0W\\xc0S\\xc0+\\xc0/\\x00\\xa2\\x00\\x9e\\xc0\\xae\\xc0\\xac\\xc0\\xa2\\xc0\\x9e\\xc0\\\\\\xc0`\\xc0V\\xc0R\\xc0$\\xc0(\\x00k\\x00j\\xc0#\\xc0'\\x00g\\x00@\\xc0\\n\\xc0\\x14\\x009\\x008\\xc0\\t\\xc0\\x13\\x003\\x00\", b'\\x9d\\xc0\\xa1\\xc0\\x9d\\xc0Q\\x00\\x9c\\xc0\\xa0\\xc0\\x9c\\xc0P\\x00=\\x00<\\x005\\x00/\\x00\\x9a\\x00\\x99\\xc0\\x07\\xc0\\x11\\x00\\x96\\x00\\x05\\x00\\xff\\x01\\x00\\x00j\\x00\\x00\\x00\\x0e\\x00\\x0c\\x00\\x00']\n",
      "Bad pipe message: %s [b'\\xe1\\x05', b'\\xb0\\x87g\\xc6U\\xd5G\\xa2.\\xd2\\xf7\\x05\\x9fL\\x00\\x00\\xa6\\xc0,\\xc0', b'\\xa3\\x00\\x9f\\xcc\\xa9\\xcc\\xa8\\xcc\\xaa\\xc0\\xaf\\xc0\\xad\\xc0\\xa3\\xc0\\x9f\\xc0]\\xc0a\\xc0W\\xc0S\\xc0+\\xc0/\\x00\\xa2\\x00\\x9e\\xc0\\xae\\xc0\\xac\\xc0\\xa2\\xc0\\x9e\\xc0\\\\\\xc0`\\xc0V']\n",
      "Bad pipe message: %s [b\"\\xc0$\\xc0(\\x00k\\x00j\\xc0s\\xc0w\\x00\\xc4\\x00\\xc3\\xc0#\\xc0'\\x00g\\x00@\\xc0r\\xc0v\\x00\\xbe\\x00\\xbd\\xc0\\n\\xc0\\x14\\x009\\x008\\x00\\x88\\x00\\x87\\xc0\\t\\xc0\\x13\\x003\\x002\\x00\\x9a\\x00\\x99\\x00E\\x00D\\xc0\\x07\\xc0\\x11\\xc0\\x08\\xc0\\x12\\x00\\x16\\x00\\x13\\x00\\x9d\\xc0\\xa1\\xc0\\x9d\\xc0Q\\x00\\x9c\\xc0\\xa0\\xc0\\x9c\\xc0P\\x00=\\x00\\xc0\\x00<\\x00\\xba\\x005\\x00\\x84\\x00/\\x00\\x96\\x00A\\x00\\x05\\x00\\n\\x00\\xff\\x01\\x00\\x00j\\x00\\x00\\x00\\x0e\\x00\\x0c\\x00\\x00\\t127.0.0.1\\x00\\x0b\\x00\\x04\\x03\\x00\\x01\\x02\\x00\\n\\x00\\x0c\\x00\\n\\x00\\x1d\\x00\\x17\\x00\\x1e\\x00\\x19\\x00\\x18\\x00#\\x00\\x00\\x00\\x16\\x00\\x00\\x00\\x17\\x00\\x00\\x00\\r\\x000\\x00.\\x04\\x03\\x05\\x03\\x06\\x03\\x08\\x07\\x08\\x08\\x08\\t\\x08\\n\\x08\"]\n",
      "Bad pipe message: %s [b'\\xc6\\t^\\x9c\\x07\\xc5y\\xd0\\xbeR\\x8b\\xc2\\x94`T\\xd3\\xcel\\x00\\x00>\\xc0\\x14\\xc0\\n\\x009\\x008']\n",
      "Bad pipe message: %s [b'\\x04\\x08\\x05\\x08\\x06\\x04\\x01\\x05\\x01\\x06']\n",
      "Bad pipe message: %s [b'', b'\\x03\\x03']\n",
      "Bad pipe message: %s [b'']\n",
      "Bad pipe message: %s [b'\\x14\\xc6J\\xf8[H\\x91\\xb3\\x8dV^z\\x9dVA\\xf6Tt\\x00\\x00\\xa2\\xc0\\x14\\xc0\\n\\x009\\x008\\x007\\x006\\x00\\x88\\x00\\x87\\x00\\x86\\x00\\x85\\xc0\\x19\\x00:\\x00\\x89\\xc0\\x0f\\xc0\\x05\\x005\\x00\\x84\\xc0\\x13\\xc0\\t\\x003\\x002\\x001\\x000\\x00\\x9a\\x00\\x99\\x00\\x98\\x00\\x97\\x00E']\n",
      "Bad pipe message: %s [b'', b'\\x02']\n",
      "Bad pipe message: %s [b'\\x05\\x02\\x06']\n",
      "Bad pipe message: %s [b'\\xd8j\\x00\\x0be\\x95\\x1d\\t\\xd2\\xa5\\x02\\xda\\x07;\\x93\\x94$\\x96\\x00\\x00>\\xc0\\x14\\xc0\\n\\x009\\x008\\x007\\x006\\xc0\\x0f\\xc0\\x05\\x005\\xc0\\x13\\xc0\\t\\x003\\x002\\x001\\x000\\xc0\\x0e\\xc0\\x04\\x00/\\x00\\x9a\\x00\\x99\\x00\\x98\\x00\\x97\\x00\\x96\\x00\\x07\\xc0']\n",
      "Bad pipe message: %s [b'\\x07\\xc0\\x0c\\xc0\\x02\\x00\\x05\\x00\\x04\\x00\\xff\\x02\\x01\\x00\\x15\\x03']\n",
      "Bad pipe message: %s [b'1\\x84+\\xad\\xe8(\\xa4\\xf2qZ\\xbd\\x06\\x03\\x10u\\xfe\\x18w\\x00\\x00\\xa2\\xc0\\x14\\xc0', b'9\\x008\\x007\\x006\\x00\\x88']\n",
      "Bad pipe message: %s [b'\\x0c0~\\xec\\xf3\\xe2M\\xe5\\xb4\\xbd:v\\xae\\xca\\xec\\xdb\\xb8!\\x00\\x00\\x86\\xc00\\xc0,\\xc0(\\xc0$\\xc0\\x14\\xc0\\n\\x00\\xa5\\x00', b\"\\xa1\\x00\\x9f\\x00k\\x00j\\x00i\\x00h\\x009\\x008\\x007\\x006\\xc02\\xc0.\\xc0*\\xc0&\\xc0\\x0f\\xc0\\x05\\x00\\x9d\\x00=\\x005\\xc0/\\xc0+\\xc0'\\xc0#\\xc0\\x13\\xc0\\t\\x00\\xa4\\x00\\xa2\\x00\\xa0\\x00\\x9e\\x00g\\x00@\\x00?\\x00>\\x003\\x002\\x001\\x000\\xc01\\xc0-\\xc0)\\xc0%\\xc0\\x0e\\xc0\\x04\\x00\\x9c\\x00<\\x00/\\x00\\x9a\\x00\\x99\\x00\\x98\\x00\\x97\\x00\\x96\\x00\\x07\\xc0\\x11\\xc0\\x07\\xc0\\x0c\\xc0\\x02\\x00\\x05\\x00\\x04\\x00\\xff\\x02\\x01\\x00\\x00g\\x00\\x00\\x00\\x0e\\x00\\x0c\\x00\\x00\\t127.0.0.1\\x00\\x0b\\x00\\x04\\x03\\x00\\x01\\x02\\x00\\n\\x00\\x1c\\x00\\x1a\\x00\\x17\\x00\\x19\\x00\\x1c\\x00\\x1b\"]\n",
      "Bad pipe message: %s [b\"j<Xe^\\xc5\\x00c\\x0b\\xdc\\xdc;\\xdf\\xd9\\xdbseB\\x00\\x00\\xf4\\xc00\\xc0,\\xc0(\\xc0$\\xc0\\x14\\xc0\\n\\x00\\xa5\\x00\\xa3\\x00\\xa1\\x00\\x9f\\x00k\\x00j\\x00i\\x00h\\x009\\x008\\x007\\x006\\x00\\x88\\x00\\x87\\x00\\x86\\x00\\x85\\xc0\\x19\\x00\\xa7\\x00m\\x00:\\x00\\x89\\xc02\\xc0.\\xc0*\\xc0&\\xc0\\x0f\\xc0\\x05\\x00\\x9d\\x00=\\x005\\x00\\x84\\xc0/\\xc0+\\xc0'\\xc0#\\xc0\\x13\\xc0\\t\\x00\\xa4\\x00\\xa2\\x00\\xa0\\x00\\x9e\\x00g\\x00@\\x00?\\x00>\\x003\\x002\\x001\\x000\\x00\\x9a\\x00\\x99\\x00\\x98\\x00\\x97\\x00E\"]\n"
     ]
    }
   ],
   "source": [
    "# perform training of the Bow model\n",
    "\n",
    "for epoch in range(10):\n",
    "    # perform training\n",
    "    model.train()#将模型设置为训练模式 model.train()\n",
    "    random.shuffle(train_data)#随机打乱训练数据 \n",
    "    total_loss = 0.0#初始化总损失 total_loss 为0.0\n",
    "    train_correct = 0#初始化训练正确的数量 train_correct 为0\n",
    "    for sentence, tag in train_data:\n",
    "        sentence = torch.tensor(sentence).type(type)\n",
    "        tag = torch.tensor([tag]).type(type)#将句子和标签转换为torch.tensor类型，数据类型为type\n",
    "        output = model(sentence)#将句子输入到模型中，得到输出 output\n",
    "        predicted = torch.argmax(output.data.detach()).item()#根据输出找到预测的标签索引 predicted\n",
    "        \n",
    "        loss = criterion(output, tag)#计算交叉熵损失 loss\n",
    "        total_loss += loss.item()#累计损失值 total_loss\n",
    "\n",
    "        optimizer.zero_grad()#清空优化器的梯度\n",
    "        loss.backward()#反向传播计算梯度\n",
    "        optimizer.step()#更新模型的参数\n",
    "\n",
    "        if predicted == tag: train_correct+=1#如果预测值与实际标签相等，增加 train_correct 的计数\n",
    "\n",
    "    # perform testing of the model\n",
    "    model.eval()#将模型设置为评估模式 model.eval()\n",
    "    test_correct = 0#初始化测试正确的数量 test_correct 为0\n",
    "    for sentence, tag in test_data:#对于每个句子和标签对 (sentence, tag) 在测试数据中\n",
    "        sentence = torch.tensor(sentence).type(type)#将句子转换为torch.tensor类型，数据类型为type\n",
    "        output = model(sentence)#将句子输入到模型中，得到输出 output\n",
    "        predicted = torch.argmax(output.data.detach()).item()#根据输出找到预测的标签索引 predicted\n",
    "        if predicted == tag: test_correct += 1#如果预测值与实际标签相等，增加 test_correct 的计数\n",
    "    \n",
    "    # print model performance results\n",
    "    #打印每个epoch的模型性能结果\n",
    "    log = f'epoch: {epoch+1} | ' \\\n",
    "        f'train loss/sent: {total_loss/len(train_data):.4f} | ' \\\n",
    "        f'train accuracy: {train_correct/len(train_data):.4f} | ' \\\n",
    "        f'test accuracy: {test_correct/len(test_data):.4f}'\n",
    "    \n",
    "    print(log)"
   ]
  }
 ],
 "metadata": {
  "kernelspec": {
   "display_name": "Python 3 (ipykernel)",
   "language": "python",
   "name": "python3"
  },
  "language_info": {
   "codemirror_mode": {
    "name": "ipython",
    "version": 3
   },
   "file_extension": ".py",
   "mimetype": "text/x-python",
   "name": "python",
   "nbconvert_exporter": "python",
   "pygments_lexer": "ipython3",
   "version": "3.9.2"
  },
  "vscode": {
   "interpreter": {
    "hash": "d4d1e4263499bec80672ea0156c357c1ee493ec2b1c70f0acce89fc37c4a6abe"
   }
  }
 },
 "nbformat": 4,
 "nbformat_minor": 2
}
